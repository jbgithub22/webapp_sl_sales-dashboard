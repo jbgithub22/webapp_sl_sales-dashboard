{
 "cells": [
  {
   "cell_type": "markdown",
   "metadata": {},
   "source": [
    "# Customer Sales Dashboard - EDA and Modeling (First Draft)\n",
    "\n",
    "This Jupyter notebook serves as the first draft for the Streamlit customer sales dashboard app. It includes:\n",
    "- Data loading and generation (sample data)\n",
    "- Exploratory Data Analysis (EDA)\n",
    "- Model training and prediction results\n",
    "\n",
    "Run cells sequentially to explore."
   ]
  },
  {
   "cell_type": "code",
   "execution_count": null,
   "metadata": {},
   "outputs": [],
   "source": []
  },
  {
   "cell_type": "code",
   "execution_count": null,
   "metadata": {},
   "outputs": [],
   "source": [
    "# Cell 1: Import necessary libraries\n",
    "import pandas as pd\n",
    "import numpy as np\n",
    "import matplotlib.pyplot as plt\n",
    "import seaborn as sns\n",
    "from datetime import datetime, timedelta\n",
    "from sklearn.model_selection import train_test_split\n",
    "from sklearn.ensemble import RandomForestRegressor\n",
    "from sklearn.metrics import mean_absolute_error, r2_score\n",
    "import plotly.express as px\n",
    "import plotly.graph_objects as go\n",
    "\n",
    "# Set style for plots\n",
    "plt.style.use('default')\n",
    "sns.set_palette(\"husl\")"
   ]
  },
  {
   "cell_type": "code",
   "execution_count": 1,
   "metadata": {},
   "outputs": [],
   "source": [
    "# Cell 2a: Load CSV Dataset\n",
    "file_path = './data/test_dataset.csv'\n",
    "\n",
    "def load_csv_data(file_path):\n",
    "    try:\n",
    "        df = pd.read_csv(file_path)\n",
    "        print(f\"CSV data loaded successfully from {file_path}\")\n",
    "        return df\n",
    "    except Exception as e:\n",
    "        print(f\"Error loading CSV data: {e}\")\n",
    "        return None"
   ]
  },
  {
   "cell_type": "code",
   "execution_count": null,
   "metadata": {},
   "outputs": [],
   "source": [
    "# Cell 2: Load Sample Data Function\n",
    "def load_sample_data():\n",
    "    \"\"\"\n",
    "    Generate sample sales data for demonstration.\n",
    "    Columns: Date, Customer_ID, Product, Category, Sales, Quantity, Region\n",
    "    \"\"\"\n",
    "    np.random.seed(42)\n",
    "    n_rows = 1000\n",
    "    start_date = datetime(2020, 1, 1)\n",
    "    dates = [start_date + timedelta(days=np.random.randint(0, 1460)) for _ in range(n_rows)]\n",
    "    \n",
    "    categories = ['Electronics', 'Clothing', 'Books', 'Home & Garden']\n",
    "    regions = ['North', 'South', 'East', 'West']\n",
    "    products = [f'Product_{i}' for i in range(1, 101)]\n",
    "    \n",
    "    data = {\n",
    "        'Date': pd.to_datetime(dates),\n",
    "        'Customer_ID': np.random.randint(1, 501, n_rows),\n",
    "        'Product': np.random.choice(products, n_rows),\n",
    "        'Category': np.random.choice(categories, n_rows),\n",
    "        'Sales': np.random.uniform(10, 1000, n_rows).round(2),\n",
    "        'Quantity': np.random.randint(1, 10, n_rows),\n",
    "        'Region': np.random.choice(regions, n_rows)\n",
    "    }\n",
    "    \n",
    "    df = pd.DataFrame(data)\n",
    "    df['Total_Sales'] = df['Sales'] * df['Quantity']\n",
    "    df.sort_values('Date', inplace=True)\n",
    "    \n",
    "    return df"
   ]
  },
  {
   "cell_type": "code",
   "execution_count": null,
   "metadata": {},
   "outputs": [],
   "source": [
    "# Cell 3: Load the data\n",
    "df = load_sample_data()\n",
    "print(f\"Data shape: {df.shape}\")\n",
    "df.head()"
   ]
  },
  {
   "cell_type": "markdown",
   "metadata": {},
   "source": [
    "## Exploratory Data Analysis (EDA)"
   ]
  },
  {
   "cell_type": "code",
   "execution_count": null,
   "metadata": {},
   "outputs": [],
   "source": [
    "# Cell 4: Data Overview\n",
    "print(\"Data Overview\")\n",
    "print(f\"Total Records: {len(df)}\")\n",
    "print(f\"Total Sales: ${df['Total_Sales'].sum():,.2f}\")\n",
    "print(f\"Unique Customers: {df['Customer_ID'].nunique()}\")\n",
    "print(f\"Unique Products: {df['Product'].nunique()}\")\n",
    "\n",
    "display(df.head())"
   ]
  },
  {
   "cell_type": "code",
   "execution_count": null,
   "metadata": {},
   "outputs": [],
   "source": [
    "# Cell 5: Summary Statistics\n",
    "print(\"Summary Statistics\")\n",
    "display(df.describe())"
   ]
  },
  {
   "cell_type": "code",
   "execution_count": null,
   "metadata": {},
   "outputs": [],
   "source": [
    "# Cell 6: Sales over time (Monthly Trend)\n",
    "fig, ax = plt.subplots(figsize=(10, 5))\n",
    "monthly_sales = df.resample('M', on='Date')['Total_Sales'].sum()\n",
    "monthly_sales.plot(ax=ax, title='Monthly Sales Trend')\n",
    "plt.xlabel('Date')\n",
    "plt.ylabel('Total Sales')\n",
    "plt.show()"
   ]
  },
  {
   "cell_type": "code",
   "execution_count": null,
   "metadata": {},
   "outputs": [],
   "source": [
    "# Cell 7: Sales by Category\n",
    "fig, ax = plt.subplots(figsize=(10, 5))\n",
    "category_sales = df.groupby('Category')['Total_Sales'].sum().sort_values(ascending=False)\n",
    "sns.barplot(x=category_sales.index, y=category_sales.values, ax=ax)\n",
    "ax.set_title('Sales by Category')\n",
    "ax.set_ylabel('Total Sales')\n",
    "plt.xticks(rotation=45)\n",
    "plt.show()"
   ]
  },
  {
   "cell_type": "code",
   "execution_count": null,
   "metadata": {},
   "outputs": [],
   "source": [
    "# Cell 8: Sales by Region\n",
    "fig, ax = plt.subplots(figsize=(10, 5))\n",
    "region_sales = df.groupby('Region')['Total_Sales'].sum().sort_values(ascending=False)\n",
    "sns.barplot(x=region_sales.index, y=region_sales.values, ax=ax)\n",
    "ax.set_title('Sales by Region')\n",
    "ax.set_ylabel('Total Sales')\n",
    "plt.show()"
   ]
  },
  {
   "cell_type": "code",
   "execution_count": null,
   "metadata": {},
   "outputs": [],
   "source": [
    "# Cell 9: Top 10 Customers by Total Spend\n",
    "customer_spend = df.groupby('Customer_ID')['Total_Sales'].sum().sort_values(ascending=False).head(10)\n",
    "fig, ax = plt.subplots(figsize=(10, 5))\n",
    "customer_spend.plot(kind='bar', ax=ax)\n",
    "ax.set_title('Top 10 Customers by Total Spend')\n",
    "ax.set_ylabel('Total Spend')\n",
    "plt.xticks(rotation=45)\n",
    "plt.show()"
   ]
  },
  {
   "cell_type": "markdown",
   "metadata": {},
   "source": [
    "## Model Prediction Results"
   ]
  },
  {
   "cell_type": "code",
   "execution_count": null,
   "metadata": {},
   "outputs": [],
   "source": [
    "# Cell 10: Train Model Function\n",
    "def train_model(df):\n",
    "    \"\"\"\n",
    "    Train a simple Random Forest model to predict Total_Sales based on features.\n",
    "    Features: Quantity, (encoded) Category, Region, (derived) Month, Day\n",
    "    \"\"\"\n",
    "    # Feature Engineering\n",
    "    df['Month'] = df['Date'].dt.month\n",
    "    df['Day'] = df['Date'].dt.day\n",
    "    df['Year'] = df['Date'].dt.year\n",
    "    \n",
    "    # Encode categoricals\n",
    "    df_encoded = pd.get_dummies(df, columns=['Category', 'Region'], drop_first=True)\n",
    "    \n",
    "    # Features and target\n",
    "    feature_cols = ['Quantity', 'Month', 'Day', 'Year'] + [col for col in df_encoded.columns if 'Category_' in col or 'Region_' in col]\n",
    "    X = df_encoded[feature_cols]\n",
    "    y = df_encoded['Total_Sales']\n",
    "    \n",
    "    # Split and train\n",
    "    X_train, X_test, y_train, y_test = train_test_split(X, y, test_size=0.2, random_state=42)\n",
    "    \n",
    "    model = RandomForestRegressor(n_estimators=100, random_state=42)\n",
    "    model.fit(X_train, y_train)\n",
    "    \n",
    "    # Predictions\n",
    "    y_pred = model.predict(X_test)\n",
    "    mae = mean_absolute_error(y_test, y_pred)\n",
    "    r2 = r2_score(y_test, y_pred)\n",
    "    \n",
    "    return model, X_test, y_test, y_pred, mae, r2, feature_cols\n",
    "\n",
    "# Train the model\n",
    "model, X_test, y_test, y_pred, mae, r2, feature_cols = train_model(df)"
   ]
  },
  {
   "cell_type": "code",
   "execution_count": null,
   "metadata": {},
   "outputs": [],
   "source": [
    "# Cell 11: Model Performance\n",
    "print(f\"Mean Absolute Error (MAE): {mae:.2f}\")\n",
    "print(f\"R² Score: {r2:.4f}\")"
   ]
  },
  {
   "cell_type": "code",
   "execution_count": null,
   "metadata": {},
   "outputs": [],
   "source": [
    "# Cell 12: Actual vs Predicted Sales\n",
    "fig = px.scatter(x=y_test, y=y_pred, labels={'x': 'Actual Sales', 'y': 'Predicted Sales'},\n",
    "                 title='Actual vs Predicted Total Sales')\n",
    "fig.add_trace(go.Scatter(x=[y_test.min(), y_test.max()], y=[y_test.min(), y_test.max()],\n",
    "                         mode='lines', name='Perfect Prediction', line=dict(color='red', dash='dash')))\n",
    "fig.show()"
   ]
  },
  {
   "cell_type": "code",
   "execution_count": null,
   "metadata": {},
   "outputs": [],
   "source": [
    "# Cell 13: Feature Importance\n",
    "importances = pd.DataFrame({\n",
    "    'Feature': feature_cols,\n",
    "    'Importance': model.feature_importances_\n",
    "}).sort_values('Importance', ascending=False)\n",
    "\n",
    "fig = px.bar(importances.head(10), x='Importance', y='Feature', orientation='h',\n",
    "             title='Top 10 Feature Importances')\n",
    "fig.show()"
   ]
  },
  {
   "cell_type": "code",
   "execution_count": null,
   "metadata": {},
   "outputs": [],
   "source": [
    "# Cell 14: Interactive Prediction (Manual Input Example)\n",
    "# For notebook, we'll use fixed values; in Streamlit, this would be sliders\n",
    "quantity = 5\n",
    "category = 'Electronics'\n",
    "region = 'North'\n",
    "month = 6\n",
    "day = 15\n",
    "year = 2022\n",
    "\n",
    "# Prepare input\n",
    "input_df = pd.DataFrame({'Quantity': [quantity], 'Month': [month], 'Day': [day], 'Year': [year]})\n",
    "\n",
    "# Add dummy columns for categories and regions (drop_first=True means first is reference)\n",
    "categories = ['Electronics', 'Clothing', 'Books', 'Home & Garden']\n",
    "regions = ['North', 'South', 'East', 'West']\n",
    "\n",
    "for cat in categories[1:]:  # Assuming Electronics is first (drop_first=True)\n",
    "    col = f'Category_{cat}'\n",
    "    if col in feature_cols:\n",
    "        input_df[col] = 1 if category == cat else 0\n",
    "\n",
    "for reg in regions[1:]:\n",
    "    col = f'Region_{reg}'\n",
    "    if col in feature_cols:\n",
    "        input_df[col] = 1 if region == reg else 0\n",
    "\n",
    "# Ensure all columns are present\n",
    "for col in feature_cols:\n",
    "    if col not in input_df.columns:\n",
    "        input_df[col] = 0\n",
    "\n",
    "input_df = input_df[feature_cols]\n",
    "\n",
    "pred = model.predict(input_df)[0]\n",
    "print(f\"Predicted Total Sales for input: ${pred:.2f}\")"
   ]
  },
  {
   "cell_type": "markdown",
   "metadata": {},
   "source": [
    "## Next Steps\n",
    "- Convert this notebook logic to Streamlit components for interactivity.\n",
    "- Add more advanced visualizations or models as needed.\n",
    "- Integrate real data loading instead of sample generation."
   ]
  }
 ],
 "metadata": {
  "kernelspec": {
   "display_name": "webapp-sl-sales-dashboard-RlUfkxr7-py3.12",
   "language": "python",
   "name": "python3"
  },
  "language_info": {
   "codemirror_mode": {
    "name": "ipython",
    "version": 3
   },
   "file_extension": ".py",
   "mimetype": "text/x-python",
   "name": "python",
   "nbconvert_exporter": "python",
   "pygments_lexer": "ipython3",
   "version": "3.12.5"
  }
 },
 "nbformat": 4,
 "nbformat_minor": 4
}
