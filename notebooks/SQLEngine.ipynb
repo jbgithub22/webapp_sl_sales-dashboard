{
 "cells": [
  {
   "cell_type": "markdown",
   "id": "958fbfb7",
   "metadata": {},
   "source": [
    "# Convert CSV dataset to SQL"
   ]
  },
  {
   "cell_type": "code",
   "execution_count": 2,
   "id": "407b0e56",
   "metadata": {},
   "outputs": [],
   "source": [
    "# Import data\n",
    "import pandas as pd\n",
    "df = pd.read_csv('../data/test_dataset.csv')"
   ]
  },
  {
   "cell_type": "code",
   "execution_count": 3,
   "id": "f0987e87",
   "metadata": {},
   "outputs": [],
   "source": [
    "# Create SQLite Database Engine\n",
    "from sqlalchemy import create_engine\n",
    "engine = create_engine('sqlite:///../data/test_dataset.db', echo=False)"
   ]
  },
  {
   "cell_type": "code",
   "execution_count": 4,
   "id": "a6b1c65b",
   "metadata": {},
   "outputs": [
    {
     "data": {
      "text/plain": [
       "2000"
      ]
     },
     "execution_count": 4,
     "metadata": {},
     "output_type": "execute_result"
    }
   ],
   "source": [
    "# Create a table from the DataFrame\n",
    "df.to_sql('test_table', con=engine, if_exists='replace', index=False)"
   ]
  },
  {
   "cell_type": "code",
   "execution_count": 11,
   "id": "f0715d4d",
   "metadata": {},
   "outputs": [],
   "source": [
    "# Test querying the database\n",
    "from sqlalchemy import text\n",
    "from sqlalchemy.orm import Session\n",
    "\n",
    "conn = engine.connect()"
   ]
  },
  {
   "cell_type": "code",
   "execution_count": 19,
   "id": "81577909",
   "metadata": {},
   "outputs": [
    {
     "name": "stdout",
     "output_type": "stream",
     "text": [
      "(0, 'customer_id', 'BIGINT', 0, None, 0)\n",
      "(1, 'age', 'BIGINT', 0, None, 0)\n",
      "(2, 'income', 'FLOAT', 0, None, 0)\n",
      "(3, 'region', 'TEXT', 0, None, 0)\n",
      "(4, 'product_category', 'TEXT', 0, None, 0)\n",
      "(5, 'purchase_date', 'TEXT', 0, None, 0)\n",
      "(6, 'quantity', 'BIGINT', 0, None, 0)\n",
      "(7, 'unit_price', 'FLOAT', 0, None, 0)\n",
      "(8, 'total_sales', 'FLOAT', 0, None, 0)\n"
     ]
    }
   ],
   "source": [
    "# Describe Columns\n",
    "# query = text(\"select COLUMN_NAME from sys.COLUMNS where TABLE_NAME = 'test_table';\")\n",
    "query = text(\"PRAGMA table_info('test_table');\")\n",
    "\n",
    "# Execute the query and fetch the results\n",
    "result = session.execute(query)\n",
    "\n",
    "# Print the results\n",
    "for row in result:\n",
    "    print(row)"
   ]
  },
  {
   "cell_type": "code",
   "execution_count": null,
   "id": "a00f8a2f",
   "metadata": {},
   "outputs": [
    {
     "name": "stdout",
     "output_type": "stream",
     "text": [
      "\n",
      " (1, 56, 34980.07, 'East', 'Electronics', '2024-03-01', 10, 112.43, 997.13)\n",
      "\n",
      " (2, 69, 112119.55, 'North', 'Clothing', '2024-02-17', 8, 350.94, 2567.37)\n",
      "\n",
      " (3, 46, None, 'South', 'Electronics', '2024-09-03', 8, 472.66, 3106.82)\n",
      "\n",
      " (4, 32, 52770.79, 'North', 'Electronics', '2024-12-03', 3, 497.8, 1457.96)\n",
      "\n",
      " (5, 60, 43614.71, 'East', 'Electronics', '2024-03-07', 7, 230.64, 1448.29)\n"
     ]
    }
   ],
   "source": [
    "# Select first 5 records\n",
    "query = text(\"SELECT * FROM test_table LIMIT 5;\")\n",
    "result = conn.execute(query)\n",
    "for record in result:\n",
    "    print(\"\\n\", record)"
   ]
  },
  {
   "cell_type": "code",
   "execution_count": null,
   "id": "76bd6caa",
   "metadata": {},
   "outputs": [],
   "source": [
    "# Test complex query from my MSDS SQL Coursework\n",
    "# To-do: create additional tables to test joins\n",
    "query = text(\"\"\"\n",
    "SELECT customerid, SUM(quantity) AS \"Total Order Volume\"\n",
    "    FROM customers C RIGHT JOIN\n",
    "        orders O ON C.customernumber = O.customernumber JOIN\n",
    "            orderdetails OD ON O.ordernunber = OD.ordernumber\n",
    "GROUP BY customername\n",
    "HAVING SUM(quantityordered) > 1650\n",
    "ORDER BY SUM(quantityordered) DESC;\n",
    "\"\"\")\n",
    "\n",
    "result = conn.execute(query)\n",
    "for record in result:\n",
    "    print(\"\\n\", record)"
   ]
  }
 ],
 "metadata": {
  "kernelspec": {
   "display_name": "webapp-sl-sales-dashboard-RlUfkxr7-py3.12",
   "language": "python",
   "name": "python3"
  },
  "language_info": {
   "codemirror_mode": {
    "name": "ipython",
    "version": 3
   },
   "file_extension": ".py",
   "mimetype": "text/x-python",
   "name": "python",
   "nbconvert_exporter": "python",
   "pygments_lexer": "ipython3",
   "version": "3.12.5"
  }
 },
 "nbformat": 4,
 "nbformat_minor": 5
}
