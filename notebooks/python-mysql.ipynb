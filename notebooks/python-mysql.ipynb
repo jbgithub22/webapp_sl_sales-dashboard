{
 "cells": [
  {
   "cell_type": "code",
   "execution_count": null,
   "id": "a34de2ec",
   "metadata": {},
   "outputs": [],
   "source": []
  },
  {
   "cell_type": "code",
   "execution_count": null,
   "id": "e723f92f",
   "metadata": {},
   "outputs": [],
   "source": [
    "import mysql.connector\n",
    "\n",
    "# Initialize a variable to hold the database connection\n",
    "conn = None\n",
    "\n",
    "try:\n",
    "    # Attempt to establish a connection to the MySQL database\n",
    "    conn = mysql.connector.connect(host='localhost', \n",
    "                                   port=3306,\n",
    "                                   database='pub',\n",
    "                                   user='<user>',\n",
    "                                   password='<password>')\n",
    "    \n",
    "    # Check if the connection is successfully established\n",
    "    if conn.is_connected():\n",
    "        print('Connected to MySQL database')\n",
    "\n",
    "except mysql.connector.Error as e:\n",
    "    # Print an error message if a connection error occurs\n",
    "    print(e)\n",
    "\n",
    "finally:\n",
    "    # Close the database connection in the 'finally' block to ensure it happens\n",
    "    if conn is not None and conn.is_connected():\n",
    "        conn.close()"
   ]
  }
 ],
 "metadata": {
  "language_info": {
   "name": "python"
  }
 },
 "nbformat": 4,
 "nbformat_minor": 5
}
