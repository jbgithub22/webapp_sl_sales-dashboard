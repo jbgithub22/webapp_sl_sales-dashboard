{
 "cells": [
  {
   "cell_type": "markdown",
   "id": "a34de2ec",
   "metadata": {},
   "source": [
    "# Python-MySQL Connection Notebook"
   ]
  },
  {
   "cell_type": "code",
   "execution_count": 11,
   "id": "edc7cc66",
   "metadata": {},
   "outputs": [],
   "source": [
    "import mysql.connector\n",
    "import configparser\n",
    "import os"
   ]
  },
  {
   "cell_type": "code",
   "execution_count": 16,
   "id": "02540bd3",
   "metadata": {},
   "outputs": [],
   "source": [
    "# Load secrets from the configuration file\n",
    "secrets_path = 'C:\\\\Users\\\\jbarcc\\\\Desktop\\\\Hobby\\\\CS - ML_Local\\\\webapp_sl_sales-dashboard\\\\secrets.ini'\n",
    "\n",
    "config = configparser.ConfigParser()\n",
    "config.read(secrets_path)\n",
    "\n",
    "db_config = config['mysql']\n",
    "host = db_config['host']\n",
    "port = db_config.getint('port')\n",
    "database = db_config['database']\n",
    "user = db_config['user']\n",
    "password = db_config.get('password', raw = True)"
   ]
  },
  {
   "cell_type": "code",
   "execution_count": null,
   "id": "e723f92f",
   "metadata": {},
   "outputs": [
    {
     "name": "stdout",
     "output_type": "stream",
     "text": [
      "Connected to MySQL database\n"
     ]
    }
   ],
   "source": [
    "\n",
    "# Initialize a variable to hold the database connection\n",
    "conn = None\n",
    "\n",
    "# Attempt to connect to the database\n",
    "try:\n",
    "    # Attempt to establish a connection to the MySQL database\n",
    "    conn = mysql.connector.connect(host=host, \n",
    "                                   port=port,\n",
    "                                   database='classicmodels',\n",
    "                                   user=user,\n",
    "                                   password=password)\n",
    "\n",
    "    # Check if the connection is successfully established\n",
    "    if conn.is_connected():\n",
    "        print('Connected to MySQL database')\n",
    "\n",
    "except mysql.connector.Error as e:\n",
    "    # Print an error message if a connection error occurs\n",
    "    print(e)\n",
    "\n",
    "finally:\n",
    "    # Close the database connection in the 'finally' block to ensure it happens\n",
    "    if conn is not None and conn.is_connected():\n",
    "        conn.close()\n",
    "        print('Connection closed')"
   ]
  },
  {
   "cell_type": "code",
   "execution_count": null,
   "id": "96da7f12",
   "metadata": {},
   "outputs": [],
   "source": []
  }
 ],
 "metadata": {
  "kernelspec": {
   "display_name": "webapp-sl-sales-dashboard-RlUfkxr7-py3.12",
   "language": "python",
   "name": "python3"
  },
  "language_info": {
   "codemirror_mode": {
    "name": "ipython",
    "version": 3
   },
   "file_extension": ".py",
   "mimetype": "text/x-python",
   "name": "python",
   "nbconvert_exporter": "python",
   "pygments_lexer": "ipython3",
   "version": "3.12.5"
  }
 },
 "nbformat": 4,
 "nbformat_minor": 5
}
