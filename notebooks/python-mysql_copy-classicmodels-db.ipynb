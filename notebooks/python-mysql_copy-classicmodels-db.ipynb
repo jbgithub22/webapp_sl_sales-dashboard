{
 "cells": [
  {
   "cell_type": "markdown",
   "id": "d51af14e",
   "metadata": {},
   "source": [
    "# Copy Classic Models DB from local MySQL Server to App SQLite DB\n"
   ]
  },
  {
   "cell_type": "code",
   "execution_count": 1,
   "id": "cd558a76",
   "metadata": {},
   "outputs": [],
   "source": [
    "import pandas as pd\n",
    "from sqlalchemy import create_engine\n",
    "import configparser\n",
    "from urllib.parse import quote_plus   "
   ]
  },
  {
   "cell_type": "code",
   "execution_count": 3,
   "id": "76f98b4e",
   "metadata": {},
   "outputs": [],
   "source": [
    "# Load secrets from the configuration file\n",
    "secrets_path = 'C:\\\\Users\\\\jbarcc\\\\Desktop\\\\Hobby\\\\CS - ML_Local\\\\webapp_sl_sales-dashboard\\\\secrets.ini'\n",
    "\n",
    "config = configparser.ConfigParser()\n",
    "config.read(secrets_path)\n",
    "\n",
    "# --- MySQL Connection Details ---\n",
    "db_config = config['mysql']\n",
    "mysql_port = db_config.getint('port')\n",
    "mysql_host = db_config['host']\n",
    "mysql_database = db_config['database']\n",
    "mysql_user = db_config['user']\n",
    "mysql_password = db_config.get('password', raw = True)\n",
    "\n",
    "# URL-Encode the password to account for special characters\n",
    "# quote_plus() safely converts special characters like @, #, or & \n",
    "mysql_encoded_password = quote_plus(mysql_password)"
   ]
  },
  {
   "cell_type": "code",
   "execution_count": 4,
   "id": "accede27",
   "metadata": {},
   "outputs": [
    {
     "name": "stdout",
     "output_type": "stream",
     "text": [
      "Connected to MySQL and SQLite file: classicmodels.sqlite\n"
     ]
    }
   ],
   "source": [
    "\n",
    "# MySQL SQLAlchemy connection string\n",
    "mysql_conn_str = f\"mysql+mysqlconnector://{mysql_user}:{mysql_encoded_password}@{mysql_host}:{mysql_port}/{mysql_database}\"\n",
    "mysql_engine = create_engine(mysql_conn_str)\n",
    "\n",
    "# --- SQLite Connection Details ---\n",
    "# This will create the SQLite file in your current directory if it doesn't exist.\n",
    "sqlite_file = config['sqlite']['file']\n",
    "sqlite_engine = create_engine(f\"sqlite:///../data/{sqlite_file}\")\n",
    "\n",
    "print(f\"Connected to MySQL and SQLite file: {sqlite_file}\")"
   ]
  },
  {
   "cell_type": "code",
   "execution_count": 5,
   "id": "6e38e659",
   "metadata": {},
   "outputs": [
    {
     "name": "stdout",
     "output_type": "stream",
     "text": [
      "Tables found in MySQL: ['customers', 'employees', 'offices', 'orderdetails', 'orders', 'payments', 'productlines', 'products']\n"
     ]
    }
   ],
   "source": [
    "# Function to get table names (may vary slightly based on MySQL version/configuration)\n",
    "def get_mysql_tables(engine):\n",
    "    query = \"SHOW TABLES\"\n",
    "    # The output column name is usually the table name with 'Tables_in_{database}'\n",
    "    return pd.read_sql(query, engine).iloc[:, 0].tolist()\n",
    "\n",
    "table_names = get_mysql_tables(mysql_engine)\n",
    "print(f\"Tables found in MySQL: {table_names}\")"
   ]
  },
  {
   "cell_type": "code",
   "execution_count": 6,
   "id": "3a6a5534",
   "metadata": {},
   "outputs": [
    {
     "name": "stdout",
     "output_type": "stream",
     "text": [
      "Copying table: customers...\n",
      "Successfully copied table: customers\n",
      "Copying table: employees...\n",
      "Successfully copied table: employees\n",
      "Copying table: offices...\n",
      "Successfully copied table: offices\n",
      "Copying table: orderdetails...\n",
      "Successfully copied table: orderdetails\n",
      "Copying table: orders...\n",
      "Successfully copied table: orders\n",
      "Copying table: payments...\n",
      "Successfully copied table: payments\n",
      "Copying table: productlines...\n",
      "Successfully copied table: productlines\n",
      "Copying table: products...\n",
      "Successfully copied table: products\n",
      "\n",
      "Database copy process complete.\n"
     ]
    }
   ],
   "source": [
    "for table in table_names:\n",
    "    print(f\"Copying table: {table}...\")\n",
    "    try:\n",
    "        # 1. Read the table data from MySQL into a pandas DataFrame\n",
    "        df = pd.read_sql(f\"SELECT * FROM {table}\", mysql_engine)\n",
    "\n",
    "        # 2. Write the DataFrame to the SQLite database\n",
    "        # if_exists='replace' drops and recreates the table\n",
    "        # index=False prevents writing the DataFrame index as a column\n",
    "        df.to_sql(table, sqlite_engine, if_exists='replace', index=False)\n",
    "        print(f\"Successfully copied table: {table}\")\n",
    "\n",
    "    except Exception as e:\n",
    "        print(f\"Error copying table {table}: {e}\")\n",
    "\n",
    "print(\"\\nDatabase copy process complete.\")"
   ]
  }
 ],
 "metadata": {
  "kernelspec": {
   "display_name": "webapp-sl-sales-dashboard-RlUfkxr7-py3.12",
   "language": "python",
   "name": "python3"
  },
  "language_info": {
   "codemirror_mode": {
    "name": "ipython",
    "version": 3
   },
   "file_extension": ".py",
   "mimetype": "text/x-python",
   "name": "python",
   "nbconvert_exporter": "python",
   "pygments_lexer": "ipython3",
   "version": "3.12.5"
  }
 },
 "nbformat": 4,
 "nbformat_minor": 5
}
