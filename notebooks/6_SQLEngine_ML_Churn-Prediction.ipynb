{
 "cells": [
  {
   "cell_type": "markdown",
   "id": "e86da182",
   "metadata": {},
   "source": [
    "# Customer Churn Prediction"
   ]
  },
  {
   "cell_type": "code",
   "execution_count": 2,
   "id": "9a4562a9",
   "metadata": {},
   "outputs": [
    {
     "ename": "ModuleNotFoundError",
     "evalue": "No module named 'sklearn'",
     "output_type": "error",
     "traceback": [
      "\u001b[31m---------------------------------------------------------------------------\u001b[39m",
      "\u001b[31mModuleNotFoundError\u001b[39m                       Traceback (most recent call last)",
      "\u001b[36mCell\u001b[39m\u001b[36m \u001b[39m\u001b[32mIn[2]\u001b[39m\u001b[32m, line 4\u001b[39m\n\u001b[32m      2\u001b[39m \u001b[38;5;28;01mfrom\u001b[39;00m\u001b[38;5;250m \u001b[39m\u001b[34;01msqlalchemy\u001b[39;00m\u001b[38;5;250m \u001b[39m\u001b[38;5;28;01mimport\u001b[39;00m create_engine, text\n\u001b[32m      3\u001b[39m \u001b[38;5;28;01mfrom\u001b[39;00m\u001b[38;5;250m \u001b[39m\u001b[34;01mdatetime\u001b[39;00m\u001b[38;5;250m \u001b[39m\u001b[38;5;28;01mimport\u001b[39;00m datetime\n\u001b[32m----> \u001b[39m\u001b[32m4\u001b[39m \u001b[38;5;28;01mfrom\u001b[39;00m\u001b[38;5;250m \u001b[39m\u001b[34;01msklearn\u001b[39;00m\u001b[34;01m.\u001b[39;00m\u001b[34;01mmodel_selection\u001b[39;00m\u001b[38;5;250m \u001b[39m\u001b[38;5;28;01mimport\u001b[39;00m train_test_split\n\u001b[32m      5\u001b[39m \u001b[38;5;28;01mfrom\u001b[39;00m\u001b[38;5;250m \u001b[39m\u001b[34;01msklearn\u001b[39;00m\u001b[34;01m.\u001b[39;00m\u001b[34;01mensemble\u001b[39;00m\u001b[38;5;250m \u001b[39m\u001b[38;5;28;01mimport\u001b[39;00m RandomForestClassifier\n\u001b[32m      6\u001b[39m \u001b[38;5;28;01mfrom\u001b[39;00m\u001b[38;5;250m \u001b[39m\u001b[34;01msklearn\u001b[39;00m\u001b[34;01m.\u001b[39;00m\u001b[34;01mmetrics\u001b[39;00m\u001b[38;5;250m \u001b[39m\u001b[38;5;28;01mimport\u001b[39;00m classification_report, confusion_matrix, accuracy_score\n",
      "\u001b[31mModuleNotFoundError\u001b[39m: No module named 'sklearn'"
     ]
    }
   ],
   "source": [
    "import pandas as pd\n",
    "from sqlalchemy import create_engine, text\n",
    "from datetime import datetime\n",
    "from sklearn.model_selection import train_test_split\n",
    "from sklearn.ensemble import RandomForestClassifier\n",
    "from sklearn.metrics import classification_report, confusion_matrix, accuracy_score"
   ]
  },
  {
   "cell_type": "code",
   "execution_count": null,
   "id": "288bddc3",
   "metadata": {},
   "outputs": [],
   "source": [
    "\n",
    "\n",
    "# 1. Connect to the Database\n",
    "DATABASE_FILE = \"classicmodels.sqlite\"\n",
    "engine = create_engine(f\"sqlite:///{DATABASE_FILE}\")\n",
    "\n",
    "def get_data(sql_query: str) -> pd.DataFrame:\n",
    "    \"\"\"Utility function to run a query and return a DataFrame.\"\"\"\n",
    "    with engine.connect() as connection:\n",
    "        return pd.read_sql(text(sql_query), connection)\n",
    "\n",
    "# 2. Define the 'Snapshot Date' and Churn Logic\n",
    "# We'll define a recent date as our 'snapshot' for recency calculation.\n",
    "# The latest order date in the dataset is usually around May 31, 2005 (check your data).\n",
    "# Let's set the snapshot date a bit later to capture 'Recency'.\n",
    "SNAPSHOT_DATE = datetime(2006, 1, 1)\n",
    "\n",
    "# Churn Definition: A customer is considered CHURNED if their last order was \n",
    "# more than 12 months (365 days) before the SNAPSHOT_DATE.\n",
    "\n",
    "# 3. Calculate RFM Features\n",
    "rfm_query = f\"\"\"\n",
    "WITH CustomerOrders AS (\n",
    "    SELECT\n",
    "        o.customerNumber,\n",
    "        o.orderDate,\n",
    "        od.quantityOrdered * od.priceEach AS sales\n",
    "    FROM\n",
    "        orders o\n",
    "    JOIN\n",
    "        orderdetails od ON o.orderNumber = od.orderNumber\n",
    ")\n",
    "SELECT\n",
    "    t1.customerNumber,\n",
    "    -- Recency: Days since last order\n",
    "    CAST(JULIANDAY('{SNAPSHOT_DATE.strftime('%Y-%m-%d')}') - JULIANDAY(MAX(t1.orderDate)) AS INTEGER) AS Recency,\n",
    "    -- Frequency: Total number of orders\n",
    "    COUNT(t1.orderDate) AS Frequency,\n",
    "    -- Monetary: Total sales value\n",
    "    SUM(t1.sales) AS Monetary,\n",
    "    -- Last Order Date (for Churn Label)\n",
    "    MAX(t1.orderDate) AS LastOrderDate\n",
    "FROM\n",
    "    CustomerOrders t1\n",
    "GROUP BY\n",
    "    t1.customerNumber;\n",
    "\"\"\"\n",
    "\n",
    "df_rfm = get_data(rfm_query)\n",
    "\n",
    "# 4. Create the Churn Label (Target Variable Y)\n",
    "df_rfm['LastOrderDate'] = pd.to_datetime(df_rfm['LastOrderDate'])\n",
    "days_since_last_order = (SNAPSHOT_DATE - df_rfm['LastOrderDate']).dt.days\n",
    "\n",
    "# Label 1 for Churn (last order > 365 days ago), 0 for Active\n",
    "df_rfm['Churn'] = (days_since_last_order > 365).astype(int)\n",
    "\n",
    "print(\"--- RFM Features with Churn Label ---\")\n",
    "print(df_rfm[['customerNumber', 'Recency', 'Frequency', 'Monetary', 'Churn']].head())\n",
    "print(f\"\\nChurned Customers (1): {df_rfm['Churn'].sum()}\")\n",
    "print(f\"Active Customers (0): {len(df_rfm) - df_rfm['Churn'].sum()}\")"
   ]
  }
 ],
 "metadata": {
  "kernelspec": {
   "display_name": "webapp-sl-sales-dashboard-RlUfkxr7-py3.12",
   "language": "python",
   "name": "python3"
  },
  "language_info": {
   "codemirror_mode": {
    "name": "ipython",
    "version": 3
   },
   "file_extension": ".py",
   "mimetype": "text/x-python",
   "name": "python",
   "nbconvert_exporter": "python",
   "pygments_lexer": "ipython3",
   "version": "3.12.5"
  }
 },
 "nbformat": 4,
 "nbformat_minor": 5
}
