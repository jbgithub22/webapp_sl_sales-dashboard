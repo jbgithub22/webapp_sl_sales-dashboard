{
 "cells": [
  {
   "cell_type": "markdown",
   "id": "e86da182",
   "metadata": {},
   "source": [
    "# Customer Churn Prediction"
   ]
  },
  {
   "cell_type": "markdown",
   "id": "ad08843f",
   "metadata": {},
   "source": [
    "## i. Load Libraries"
   ]
  },
  {
   "cell_type": "code",
   "execution_count": 16,
   "id": "3dadf747",
   "metadata": {},
   "outputs": [],
   "source": [
    "# General modules\n",
    "import pandas as pd\n",
    "from sqlalchemy import create_engine, text\n",
    "from datetime import datetime, timedelta\n",
    "\n",
    "# Scikit-learn modules\n",
    "from sklearn.model_selection import train_test_split\n",
    "from sklearn.ensemble import RandomForestClassifier\n",
    "from sklearn.metrics import classification_report, accuracy_score\n",
    "from sklearn.preprocessing import StandardScaler, OneHotEncoder\n",
    "from sklearn.compose import ColumnTransformer\n",
    "from sklearn.pipeline import Pipeline"
   ]
  },
  {
   "cell_type": "markdown",
   "id": "36534e48",
   "metadata": {},
   "source": [
    "## 1. Database Setup and Data Loading"
   ]
  },
  {
   "cell_type": "code",
   "execution_count": null,
   "id": "d41cf104",
   "metadata": {},
   "outputs": [],
   "source": [
    "# Database connection setup\n",
    "\n",
    "DATABASE_FILE = \"classicmodels.sqlite\"\n",
    "engine = create_engine(f\"sqlite:///../data/{DATABASE_FILE}\")\n",
    "\n",
    "def get_data(sql_query):\n",
    "    \"\"\"Executes an SQL query and returns the results as a pandas DataFrame.\"\"\"\n",
    "    with engine.connect() as connection:\n",
    "        try:\n",
    "            df = pd.read_sql(text(sql_query), connection)\n",
    "            return df\n",
    "        except Exception as e:\n",
    "            print(f\"Database Query Error: {e}\")\n",
    "            return pd.DataFrame()"
   ]
  },
  {
   "cell_type": "markdown",
   "id": "a384db64",
   "metadata": {},
   "source": [
    "## 2. Feature Engineering (RFM and Churn Target)"
   ]
  },
  {
   "cell_type": "code",
   "execution_count": null,
   "id": "94abbdef",
   "metadata": {},
   "outputs": [],
   "source": [
    "# Define the observation date (usually the day the analysis is run)\n",
    "# We'll set a reference date a bit after the latest order in the database for a realistic look.\n",
    "REFERENCE_DATE = datetime(2006, 1, 1) # Assuming data ends around 2005\n",
    "\n",
    "# Define the Churn threshold (12 months of inactivity)\n",
    "CHURN_THRESHOLD_DAYS = 365"
   ]
  },
  {
   "cell_type": "code",
   "execution_count": null,
   "id": "b6bd83ca",
   "metadata": {},
   "outputs": [],
   "source": [
    "# 2.1. SQL Query to get base customer data and RFM components\n",
    "\n",
    "# Recency: Days since last order\n",
    "# Frequency: Total number of orders\n",
    "# Monetary: Total sales amount\n",
    "rfm_query = f\"\"\"\n",
    "WITH CustomerRecency AS (\n",
    "    SELECT\n",
    "        customerNumber,\n",
    "        MAX(orderDate) AS LastOrderDate,\n",
    "        COUNT(orderNumber) AS Frequency\n",
    "    FROM\n",
    "        orders\n",
    "    GROUP BY\n",
    "        customerNumber\n",
    "),\n",
    "CustomerMonetary AS (\n",
    "    SELECT\n",
    "        o.customerNumber,\n",
    "        SUM(od.quantityOrdered * od.priceEach) AS Monetary\n",
    "    FROM\n",
    "        orders o\n",
    "    JOIN\n",
    "        orderdetails od ON o.orderNumber = od.orderNumber\n",
    "    GROUP BY\n",
    "        o.customerNumber\n",
    ")\n",
    "SELECT\n",
    "    c.customerNumber,\n",
    "    c.country,\n",
    "    c.creditLimit,\n",
    "    strftime('%Y-%m-%d', LastOrderDate) AS LastOrderDateStr,\n",
    "    t1.Frequency,\n",
    "    t2.Monetary\n",
    "FROM\n",
    "    customers c\n",
    "JOIN\n",
    "    CustomerRecency t1 ON c.customerNumber = t1.customerNumber\n",
    "JOIN\n",
    "    CustomerMonetary t2 ON c.customerNumber = t2.customerNumber;\n",
    "\"\"\"  # noqa: F541\n",
    "\n",
    "df_raw = get_data(rfm_query)"
   ]
  },
  {
   "cell_type": "code",
   "execution_count": 29,
   "id": "a184034b",
   "metadata": {},
   "outputs": [
    {
     "name": "stdout",
     "output_type": "stream",
     "text": [
      "--- Data Preparation Complete ---\n",
      "Total Customers: 98\n",
      "Churned Customers (Recency > 365 days): 54\n",
      "\n",
      " --- Legend ---\n",
      "Recency: Days since last order\n",
      "Frequency: Total number of orders\n",
      "Monetary: Total sales amount\n",
      "\n",
      " ---Sample Data: ---\n",
      "   Recency  Frequency   Monetary  creditLimit    country  Churned\n",
      "0      402          3   22314.36      21000.0     France        1\n",
      "1      398          3   80180.98      71800.0        USA        1\n",
      "2      398          5  180585.07     117300.0  Australia        1\n",
      "3      215          4  158573.12     118200.0     France        0\n",
      "4      422          4  104224.79      81700.0     Norway        1\n"
     ]
    }
   ],
   "source": [
    "# 2.2. Calculate Recency and Churn Target in Python\n",
    "df_raw['LastOrderDate'] = pd.to_datetime(df_raw['LastOrderDateStr'])\n",
    "df_raw['Recency'] = (REFERENCE_DATE - df_raw['LastOrderDate']).dt.days\n",
    "\n",
    "# Create the binary target variable 'Churned'\n",
    "# Churned = 1 if Recency > CHURN_THRESHOLD_DAYS, otherwise 0\n",
    "df_raw['Churned'] = (df_raw['Recency'] > CHURN_THRESHOLD_DAYS).astype(int)\n",
    "\n",
    "# Select features for the model\n",
    "features = ['Recency', 'Frequency', 'Monetary', 'creditLimit', 'country']\n",
    "target = 'Churned'\n",
    "df_model = df_raw[features + [target]].copy()\n",
    "\n",
    "print(\"--- Data Preparation Complete ---\")\n",
    "print(f\"Total Customers: {len(df_model)}\")\n",
    "print(f\"Churned Customers (Recency > {CHURN_THRESHOLD_DAYS} days): {df_model['Churned'].sum()}\")\n",
    "print(\"\\n --- Legend ---\")\n",
    "print(\"Recency: Days since last order\")\n",
    "print(\"Frequency: Total number of orders\")\n",
    "print(\"Monetary: Total sales amount\")\n",
    "print(\"\\n ---Sample Data: ---\")\n",
    "print(df_model.head())"
   ]
  },
  {
   "cell_type": "markdown",
   "id": "cf8a9d9b",
   "metadata": {},
   "source": [
    "## 3. Preprocessing and Model Training"
   ]
  },
  {
   "cell_type": "code",
   "execution_count": null,
   "id": "af1245c3",
   "metadata": {},
   "outputs": [],
   "source": [
    "# 3.1. Define Feature Types\n",
    "numerical_features = ['Recency', 'Frequency', 'Monetary', 'creditLimit']\n",
    "categorical_features = ['country']"
   ]
  },
  {
   "cell_type": "code",
   "execution_count": 17,
   "id": "2e028e80",
   "metadata": {},
   "outputs": [],
   "source": [
    "# 3.2. Define Preprocessing Steps (ColumnTransformer)\n",
    "# Standard Scaler for numerical data\n",
    "# One-Hot Encoder for categorical data\n",
    "preprocessor = ColumnTransformer(\n",
    "    transformers=[\n",
    "        ('num', StandardScaler(), numerical_features),\n",
    "        ('cat', OneHotEncoder(handle_unknown='ignore'), categorical_features)\n",
    "    ],\n",
    "    remainder='passthrough'\n",
    ")"
   ]
  },
  {
   "cell_type": "code",
   "execution_count": 18,
   "id": "e145c200",
   "metadata": {},
   "outputs": [],
   "source": [
    "# 3.3. Define the Model Pipeline\n",
    "# The pipeline chains the preprocessing steps with the classifier\n",
    "model_pipeline = Pipeline(steps=[\n",
    "    ('preprocessor', preprocessor),\n",
    "    ('classifier', RandomForestClassifier(n_estimators=100, random_state=42, class_weight='balanced'))\n",
    "])"
   ]
  },
  {
   "cell_type": "code",
   "execution_count": 19,
   "id": "58336f7f",
   "metadata": {},
   "outputs": [],
   "source": [
    "# 3.4. Split Data\n",
    "X = df_model.drop(target, axis=1)\n",
    "y = df_model[target]\n",
    "X_train, X_test, y_train, y_test = train_test_split(X, y, test_size=0.3, random_state=42, stratify=y)"
   ]
  },
  {
   "cell_type": "code",
   "execution_count": 20,
   "id": "c263989c",
   "metadata": {},
   "outputs": [
    {
     "name": "stdout",
     "output_type": "stream",
     "text": [
      "\n",
      "--- Training RandomForest Classifier ---\n",
      "Training Complete.\n"
     ]
    }
   ],
   "source": [
    "# 3.5. Train the Model\n",
    "print(\"\\n--- Training RandomForest Classifier ---\")\n",
    "model_pipeline.fit(X_train, y_train)\n",
    "print(\"Training Complete.\")"
   ]
  },
  {
   "cell_type": "markdown",
   "id": "a7ae92f9",
   "metadata": {},
   "source": [
    "## 4. Evaluation"
   ]
  },
  {
   "cell_type": "code",
   "execution_count": 21,
   "id": "74fc4e9e",
   "metadata": {},
   "outputs": [],
   "source": [
    "# 4.1. Make Predictions\n",
    "y_pred = model_pipeline.predict(X_test)"
   ]
  },
  {
   "cell_type": "code",
   "execution_count": 22,
   "id": "fdc4bf76",
   "metadata": {},
   "outputs": [
    {
     "name": "stdout",
     "output_type": "stream",
     "text": [
      "\n",
      "--- Model Evaluation ---\n",
      "Accuracy: 1.0000\n",
      "\n",
      "Classification Report:\n",
      "              precision    recall  f1-score   support\n",
      "\n",
      "           0       1.00      1.00      1.00        13\n",
      "           1       1.00      1.00      1.00        17\n",
      "\n",
      "    accuracy                           1.00        30\n",
      "   macro avg       1.00      1.00      1.00        30\n",
      "weighted avg       1.00      1.00      1.00        30\n",
      "\n"
     ]
    }
   ],
   "source": [
    "# 4.2. Evaluate Performance\n",
    "print(\"\\n--- Model Evaluation ---\")\n",
    "print(f\"Accuracy: {accuracy_score(y_test, y_pred):.4f}\")\n",
    "print(\"\\nClassification Report:\")\n",
    "print(classification_report(y_test, y_pred))"
   ]
  },
  {
   "cell_type": "code",
   "execution_count": 23,
   "id": "1edc68df",
   "metadata": {},
   "outputs": [],
   "source": [
    "# 4.3. Feature Importance (Extract from the trained pipeline)\n",
    "# Get the names of the encoded features\n",
    "ohe_feature_names = list(model_pipeline.named_steps['preprocessor'].named_transformers_['cat'].get_feature_names_out(categorical_features))\n",
    "all_feature_names = numerical_features + ohe_feature_names"
   ]
  },
  {
   "cell_type": "code",
   "execution_count": 24,
   "id": "f51e5c32",
   "metadata": {},
   "outputs": [
    {
     "name": "stdout",
     "output_type": "stream",
     "text": [
      "\n",
      "Top 10 Feature Importances:\n",
      "              Feature  Importance\n",
      "0             Recency    0.540800\n",
      "2            Monetary    0.132626\n",
      "1           Frequency    0.126295\n",
      "3         creditLimit    0.091538\n",
      "20      country_Spain    0.013092\n",
      "23        country_USA    0.012029\n",
      "9     country_Finland    0.011679\n",
      "4   country_Australia    0.010819\n",
      "10     country_France    0.010727\n",
      "11    country_Germany    0.007491\n"
     ]
    }
   ],
   "source": [
    "# Get importance scores\n",
    "importances = model_pipeline.named_steps['classifier'].feature_importances_\n",
    "feature_importance_df = pd.DataFrame({'Feature': all_feature_names, 'Importance': importances})\n",
    "feature_importance_df = feature_importance_df.sort_values(by='Importance', ascending=False).head(10)\n",
    "\n",
    "print(\"\\nTop 10 Feature Importances:\")\n",
    "print(feature_importance_df)"
   ]
  },
  {
   "cell_type": "markdown",
   "id": "0de0a48d",
   "metadata": {},
   "source": [
    "## 5. Model Use Cases: Churn Prediction Operations"
   ]
  },
  {
   "cell_type": "markdown",
   "id": "4a63df35",
   "metadata": {},
   "source": [
    "### 5.1 Sample list of customers for churn prediction"
   ]
  },
  {
   "cell_type": "code",
   "execution_count": 31,
   "id": "d1bedd74",
   "metadata": {},
   "outputs": [
    {
     "name": "stdout",
     "output_type": "stream",
     "text": [
      "--- Simulated Active Customer Data ---\n",
      "               customerName  creditLimit   Monetary  Churn_Score\n",
      "0         Atelier graphique      71000.0   22314.36         0.15\n",
      "1  Australian Collectors Co     117300.0  180585.07         0.92\n",
      "2         La Rochelle Gifts      80500.0   72555.20         0.45\n",
      "3        Baane Mini Imports      81700.0  104224.79         0.78\n",
      "4            Euro+ Postales     118200.0  158573.12         0.55\n",
      "--------------------------------------------------\n"
     ]
    }
   ],
   "source": [
    "# Simulate a small dataset of active customers with a generated Churn_Score\n",
    "data = {\n",
    "    'customerNumber': [103, 114, 119, 121, 141, 151, 175, 186, 201, 233],\n",
    "    'customerName': ['Atelier graphique', 'Australian Collectors Co', 'La Rochelle Gifts', 'Baane Mini Imports', 'Euro+ Postales', 'Motor City Art', 'Gift Ideas Corp', 'Mini Wheels Co.', 'Online Diecast Creations', \"L'Avenue des Cames\"],\n",
    "    'country': ['France', 'Australia', 'France', 'Norway', 'Spain', 'USA', 'USA', 'USA', 'USA', 'France'],\n",
    "    'creditLimit': [71000.0, 117300.0, 80500.0, 81700.0, 118200.0, 103800.0, 89300.0, 75600.0, 66500.0, 95800.0],\n",
    "    'Monetary': [22314.36, 180585.07, 72555.20, 104224.79, 158573.12, 105000.00, 45000.00, 15000.00, 90000.00, 55000.00],\n",
    "    # SIMULATED CHURN SCORE (0 to 1)\n",
    "    'Churn_Score': [0.15, 0.92, 0.45, 0.78, 0.55, 0.22, 0.88, 0.10, 0.41, 0.35]\n",
    "}\n",
    "\n",
    "df_active_customers = pd.DataFrame(data)\n",
    "df_active_customers['customerNumber'] = df_active_customers['customerNumber'].astype(int)\n",
    "\n",
    "print(\"--- Simulated Active Customer Data ---\")\n",
    "print(df_active_customers[['customerName', 'creditLimit', 'Monetary', 'Churn_Score']].head())\n",
    "print(\"-\" * 50)"
   ]
  },
  {
   "cell_type": "markdown",
   "id": "64e88f60",
   "metadata": {},
   "source": [
    "### 5.2. Sales Team: Targeting Outreach"
   ]
  },
  {
   "cell_type": "code",
   "execution_count": 32,
   "id": "2bedf29c",
   "metadata": {},
   "outputs": [
    {
     "name": "stdout",
     "output_type": "stream",
     "text": [
      "\n",
      "--- Sales Team Prioritization ---\n",
      "               customerName  Churn_Score   Monetary  \\\n",
      "1  Australian Collectors Co         0.92  180585.07   \n",
      "6           Gift Ideas Corp         0.88   45000.00   \n",
      "3        Baane Mini Imports         0.78  104224.79   \n",
      "4            Euro+ Postales         0.55  158573.12   \n",
      "2         La Rochelle Gifts         0.45   72555.20   \n",
      "8  Online Diecast Creations         0.41   90000.00   \n",
      "9        L'Avenue des Cames         0.35   55000.00   \n",
      "5            Motor City Art         0.22  105000.00   \n",
      "0         Atelier graphique         0.15   22314.36   \n",
      "7           Mini Wheels Co.         0.10   15000.00   \n",
      "\n",
      "                                        Sales_Action  \n",
      "1  Immediate Sales Manager Contact (High-Risk Int...  \n",
      "6  Immediate Sales Manager Contact (High-Risk Int...  \n",
      "3  Immediate Sales Manager Contact (High-Risk Int...  \n",
      "4   Personalized Email Sequence (Mid-Risk Nurturing)  \n",
      "2   Personalized Email Sequence (Mid-Risk Nurturing)  \n",
      "8   Personalized Email Sequence (Mid-Risk Nurturing)  \n",
      "9       Standard Communication (Low-Risk Monitoring)  \n",
      "5       Standard Communication (Low-Risk Monitoring)  \n",
      "0       Standard Communication (Low-Risk Monitoring)  \n",
      "7       Standard Communication (Low-Risk Monitoring)  \n",
      "--------------------------------------------------\n"
     ]
    }
   ],
   "source": [
    "# Define main function\n",
    "def get_sales_action(score):\n",
    "    \"\"\"Determines the sales team's action based on the Churn Score.\"\"\"\n",
    "    if score >= 0.70:\n",
    "        return \"Immediate Sales Manager Contact (High-Risk Intervention)\"\n",
    "    elif score >= 0.40:\n",
    "        return \"Personalized Email Sequence (Mid-Risk Nurturing)\"\n",
    "    else:\n",
    "        return \"Standard Communication (Low-Risk Monitoring)\"\n",
    "\n",
    "# Apply the function to create a new column with the recommended action\n",
    "df_active_customers['Sales_Action'] = df_active_customers['Churn_Score'].apply(get_sales_action)\n",
    "\n",
    "print(\"\\n--- Sales Team Prioritization ---\")\n",
    "df_sales_focus = df_active_customers[\n",
    "    ['customerName', 'Churn_Score', 'Monetary', 'Sales_Action']\n",
    "].sort_values(by='Churn_Score', ascending=False)\n",
    "print(df_sales_focus)\n",
    "print(\"-\" * 50)"
   ]
  },
  {
   "cell_type": "code",
   "execution_count": 33,
   "id": "fbadebc2",
   "metadata": {},
   "outputs": [
    {
     "name": "stdout",
     "output_type": "stream",
     "text": [
      "\n",
      "--- Marketing Retargeting Campaign List (Score >= 0.70) ---\n",
      "               customerName  Churn_Score    country\n",
      "1  Australian Collectors Co         0.92  Australia\n",
      "6           Gift Ideas Corp         0.88        USA\n",
      "3        Baane Mini Imports         0.78     Norway\n",
      "--------------------------------------------------\n"
     ]
    }
   ],
   "source": [
    "# --- 5.3. Marketing Team: Campaign Budget Allocation ---\n",
    "\n",
    "# We'll isolate the High-Risk customers for a focused retargeting campaign.\n",
    "HIGH_RISK_THRESHOLD = 0.70\n",
    "\n",
    "df_high_risk_marketing = df_active_customers[\n",
    "    df_active_customers['Churn_Score'] >= HIGH_RISK_THRESHOLD\n",
    "].sort_values(by='Churn_Score', ascending=False)\n",
    "\n",
    "print(\"\\n--- Marketing Retargeting Campaign List (Score >= 0.70) ---\")\n",
    "print(df_high_risk_marketing[['customerName', 'Churn_Score', 'country']])\n",
    "print(\"-\" * 50)"
   ]
  },
  {
   "cell_type": "code",
   "execution_count": 34,
   "id": "34600f8e",
   "metadata": {},
   "outputs": [],
   "source": [
    "# --- 5.4. Finance Team: Credit Limit Review (Proactive Review) ---\n",
    "\n",
    "# Rule: If a customer is high-risk AND has a high credit limit, recommend a review/delay increase.\n",
    "FINANCE_RISK_THRESHOLD = 0.75\n",
    "HIGH_LIMIT_THRESHOLD = 90000.00 # Define 'high' credit limit based on overall distribution\n",
    "\n",
    "def get_finance_review(row):\n",
    "    \"\"\"Determines if the finance team needs to review the account/credit limit.\"\"\"\n",
    "    if row['Churn_Score'] >= FINANCE_RISK_THRESHOLD and row['creditLimit'] >= HIGH_LIMIT_THRESHOLD:\n",
    "        return f\"URGENT REVIEW: HIGH Risk & HIGH Limit. Reduce Exposure.\"\n",
    "    elif row['Churn_Score'] >= FINANCE_RISK_THRESHOLD:\n",
    "        return f\"Review Required: HIGH Risk.\"\n",
    "    else:\n",
    "        return \"Standard Status.\""
   ]
  },
  {
   "cell_type": "code",
   "execution_count": 35,
   "id": "196a7d36",
   "metadata": {},
   "outputs": [
    {
     "name": "stdout",
     "output_type": "stream",
     "text": [
      "\n",
      "--- Finance Team Credit Review List ---\n",
      "               customerName  Churn_Score  creditLimit  \\\n",
      "1  Australian Collectors Co         0.92     117300.0   \n",
      "6           Gift Ideas Corp         0.88      89300.0   \n",
      "3        Baane Mini Imports         0.78      81700.0   \n",
      "\n",
      "                               Finance_Review_Status  \n",
      "1  URGENT REVIEW: HIGH Risk & HIGH Limit. Reduce ...  \n",
      "6                        Review Required: HIGH Risk.  \n",
      "3                        Review Required: HIGH Risk.  \n",
      "--------------------------------------------------\n"
     ]
    }
   ],
   "source": [
    "# Apply the function\n",
    "df_active_customers['Finance_Review_Status'] = df_active_customers.apply(get_finance_review, axis=1)\n",
    "\n",
    "print(\"\\n--- Finance Team Credit Review List ---\")\n",
    "df_finance_review = df_active_customers[\n",
    "    df_active_customers['Finance_Review_Status'] != 'Standard Status.'\n",
    "].sort_values(by='Churn_Score', ascending=False)\n",
    "\n",
    "print(df_finance_review[['customerName', 'Churn_Score', 'creditLimit', 'Finance_Review_Status']])\n",
    "print(\"-\" * 50)"
   ]
  }
 ],
 "metadata": {
  "kernelspec": {
   "display_name": "webapp-sl-sales-dashboard-RlUfkxr7-py3.12",
   "language": "python",
   "name": "python3"
  },
  "language_info": {
   "codemirror_mode": {
    "name": "ipython",
    "version": 3
   },
   "file_extension": ".py",
   "mimetype": "text/x-python",
   "name": "python",
   "nbconvert_exporter": "python",
   "pygments_lexer": "ipython3",
   "version": "3.12.5"
  }
 },
 "nbformat": 4,
 "nbformat_minor": 5
}
